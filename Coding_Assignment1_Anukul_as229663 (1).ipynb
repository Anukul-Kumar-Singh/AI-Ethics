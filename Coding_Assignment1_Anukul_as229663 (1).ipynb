{
  "cells": [
    {
      "cell_type": "markdown",
      "id": "5fccb842",
      "metadata": {
        "id": "5fccb842"
      },
      "source": [
        "# Assignment 1 : Measuring Fairness\n",
        "Anukul Kumar Singh <br>\n",
        "Apr 9th 2024\n",
        "\n",
        "Please complete the code in this notebook to make every print function work as expected. To finish this assignment,\n",
        "you will need to carefully go through the notebook, understand each steps, and when you encounter \" #replace this with your own code!!!\", fill it up with correct answers.\n"
      ]
    },
    {
      "cell_type": "markdown",
      "id": "1034299a",
      "metadata": {
        "id": "1034299a"
      },
      "source": [
        "## Step 1: Download Dataset\n",
        "\n",
        "For this Assignment, we will use the German Credit Dataset. To download German Credit data, you will need to install the package 'ucimlrepo'. For example, you might want to run 'pip install ucimlrepo' on your comment line.\n",
        "Similarily, you need to install packages 'pandas', 'numpy', 'sklearn', and 'matplotlib' if not yet."
      ]
    },
    {
      "cell_type": "code",
      "source": [
        "!pip install ucimlrepo"
      ],
      "metadata": {
        "colab": {
          "base_uri": "https://localhost:8080/"
        },
        "id": "_HAOM6QzIzU4",
        "outputId": "24d89ac8-cc28-4fd9-b69a-b5f81d426f25"
      },
      "id": "_HAOM6QzIzU4",
      "execution_count": 1,
      "outputs": [
        {
          "output_type": "stream",
          "name": "stdout",
          "text": [
            "Requirement already satisfied: ucimlrepo in /usr/local/lib/python3.10/dist-packages (0.0.6)\n"
          ]
        }
      ]
    },
    {
      "cell_type": "code",
      "execution_count": 2,
      "id": "819e8753",
      "metadata": {
        "id": "819e8753"
      },
      "outputs": [],
      "source": [
        "#import libraries\n",
        "from ucimlrepo import fetch_ucirepo\n",
        "import pandas as pd\n",
        "import numpy as np\n",
        "from sklearn.ensemble import RandomForestClassifier\n",
        "import matplotlib.pyplot as plt"
      ]
    },
    {
      "cell_type": "code",
      "execution_count": 3,
      "id": "0cb2edd7",
      "metadata": {
        "colab": {
          "base_uri": "https://localhost:8080/"
        },
        "id": "0cb2edd7",
        "outputId": "3b9b46dc-9663-4604-d256-a335564efc19"
      },
      "outputs": [
        {
          "output_type": "stream",
          "name": "stdout",
          "text": [
            "           name     role         type     demographic  \\\n",
            "0    Attribute1  Feature  Categorical            None   \n",
            "1    Attribute2  Feature      Integer            None   \n",
            "2    Attribute3  Feature  Categorical            None   \n",
            "3    Attribute4  Feature  Categorical            None   \n",
            "4    Attribute5  Feature      Integer            None   \n",
            "5    Attribute6  Feature  Categorical            None   \n",
            "6    Attribute7  Feature  Categorical           Other   \n",
            "7    Attribute8  Feature      Integer            None   \n",
            "8    Attribute9  Feature  Categorical  Marital Status   \n",
            "9   Attribute10  Feature  Categorical            None   \n",
            "10  Attribute11  Feature      Integer            None   \n",
            "11  Attribute12  Feature  Categorical            None   \n",
            "12  Attribute13  Feature      Integer             Age   \n",
            "13  Attribute14  Feature  Categorical            None   \n",
            "14  Attribute15  Feature  Categorical           Other   \n",
            "15  Attribute16  Feature      Integer            None   \n",
            "16  Attribute17  Feature  Categorical      Occupation   \n",
            "17  Attribute18  Feature      Integer            None   \n",
            "18  Attribute19  Feature       Binary            None   \n",
            "19  Attribute20  Feature       Binary           Other   \n",
            "20        class   Target       Binary            None   \n",
            "\n",
            "                                          description   units missing_values  \n",
            "0                 Status of existing checking account    None             no  \n",
            "1                                            Duration  months             no  \n",
            "2                                      Credit history    None             no  \n",
            "3                                             Purpose    None             no  \n",
            "4                                       Credit amount    None             no  \n",
            "5                               Savings account/bonds    None             no  \n",
            "6                            Present employment since    None             no  \n",
            "7   Installment rate in percentage of disposable i...    None             no  \n",
            "8                             Personal status and sex    None             no  \n",
            "9                          Other debtors / guarantors    None             no  \n",
            "10                            Present residence since    None             no  \n",
            "11                                           Property    None             no  \n",
            "12                                                Age   years             no  \n",
            "13                            Other installment plans    None             no  \n",
            "14                                            Housing    None             no  \n",
            "15            Number of existing credits at this bank    None             no  \n",
            "16                                                Job    None             no  \n",
            "17  Number of people being liable to provide maint...    None             no  \n",
            "18                                          Telephone    None             no  \n",
            "19                                     foreign worker    None             no  \n",
            "20                                  1 = Good, 2 = Bad    None             no  \n"
          ]
        }
      ],
      "source": [
        "# fetch dataset\n",
        "df = fetch_ucirepo(id=144) ##144 is for German Credit data, different id gives you different dataset in UC Irvine Machine Learning Repository.\n",
        "\n",
        "# data (as pandas dataframes)\n",
        "X = df.data.features\n",
        "y = df.data.targets\n",
        "\n",
        "# variable information\n",
        "print(df.variables)"
      ]
    },
    {
      "cell_type": "code",
      "execution_count": 4,
      "id": "c15a1d8e",
      "metadata": {
        "colab": {
          "base_uri": "https://localhost:8080/",
          "height": 226
        },
        "id": "c15a1d8e",
        "outputId": "c80243a9-cef6-443e-f01b-2014a31ef725"
      },
      "outputs": [
        {
          "output_type": "execute_result",
          "data": {
            "text/plain": [
              "  Attribute1  Attribute2 Attribute3 Attribute4  Attribute5 Attribute6  \\\n",
              "0        A11           6        A34        A43        1169        A65   \n",
              "1        A12          48        A32        A43        5951        A61   \n",
              "2        A14          12        A34        A46        2096        A61   \n",
              "3        A11          42        A32        A42        7882        A61   \n",
              "4        A11          24        A33        A40        4870        A61   \n",
              "\n",
              "  Attribute7  Attribute8 Attribute9 Attribute10  Attribute11 Attribute12  \\\n",
              "0        A75           4        A93        A101            4        A121   \n",
              "1        A73           2        A92        A101            2        A121   \n",
              "2        A74           2        A93        A101            3        A121   \n",
              "3        A74           2        A93        A103            4        A122   \n",
              "4        A73           3        A93        A101            4        A124   \n",
              "\n",
              "   Attribute13 Attribute14 Attribute15  Attribute16 Attribute17  Attribute18  \\\n",
              "0           67        A143        A152            2        A173            1   \n",
              "1           22        A143        A152            1        A173            1   \n",
              "2           49        A143        A152            1        A172            2   \n",
              "3           45        A143        A153            1        A173            2   \n",
              "4           53        A143        A153            2        A173            2   \n",
              "\n",
              "  Attribute19 Attribute20  \n",
              "0        A192        A201  \n",
              "1        A191        A201  \n",
              "2        A191        A201  \n",
              "3        A191        A201  \n",
              "4        A191        A201  "
            ],
            "text/html": [
              "\n",
              "  <div id=\"df-74513f0e-c605-4efc-83d0-7286fed1000d\" class=\"colab-df-container\">\n",
              "    <div>\n",
              "<style scoped>\n",
              "    .dataframe tbody tr th:only-of-type {\n",
              "        vertical-align: middle;\n",
              "    }\n",
              "\n",
              "    .dataframe tbody tr th {\n",
              "        vertical-align: top;\n",
              "    }\n",
              "\n",
              "    .dataframe thead th {\n",
              "        text-align: right;\n",
              "    }\n",
              "</style>\n",
              "<table border=\"1\" class=\"dataframe\">\n",
              "  <thead>\n",
              "    <tr style=\"text-align: right;\">\n",
              "      <th></th>\n",
              "      <th>Attribute1</th>\n",
              "      <th>Attribute2</th>\n",
              "      <th>Attribute3</th>\n",
              "      <th>Attribute4</th>\n",
              "      <th>Attribute5</th>\n",
              "      <th>Attribute6</th>\n",
              "      <th>Attribute7</th>\n",
              "      <th>Attribute8</th>\n",
              "      <th>Attribute9</th>\n",
              "      <th>Attribute10</th>\n",
              "      <th>Attribute11</th>\n",
              "      <th>Attribute12</th>\n",
              "      <th>Attribute13</th>\n",
              "      <th>Attribute14</th>\n",
              "      <th>Attribute15</th>\n",
              "      <th>Attribute16</th>\n",
              "      <th>Attribute17</th>\n",
              "      <th>Attribute18</th>\n",
              "      <th>Attribute19</th>\n",
              "      <th>Attribute20</th>\n",
              "    </tr>\n",
              "  </thead>\n",
              "  <tbody>\n",
              "    <tr>\n",
              "      <th>0</th>\n",
              "      <td>A11</td>\n",
              "      <td>6</td>\n",
              "      <td>A34</td>\n",
              "      <td>A43</td>\n",
              "      <td>1169</td>\n",
              "      <td>A65</td>\n",
              "      <td>A75</td>\n",
              "      <td>4</td>\n",
              "      <td>A93</td>\n",
              "      <td>A101</td>\n",
              "      <td>4</td>\n",
              "      <td>A121</td>\n",
              "      <td>67</td>\n",
              "      <td>A143</td>\n",
              "      <td>A152</td>\n",
              "      <td>2</td>\n",
              "      <td>A173</td>\n",
              "      <td>1</td>\n",
              "      <td>A192</td>\n",
              "      <td>A201</td>\n",
              "    </tr>\n",
              "    <tr>\n",
              "      <th>1</th>\n",
              "      <td>A12</td>\n",
              "      <td>48</td>\n",
              "      <td>A32</td>\n",
              "      <td>A43</td>\n",
              "      <td>5951</td>\n",
              "      <td>A61</td>\n",
              "      <td>A73</td>\n",
              "      <td>2</td>\n",
              "      <td>A92</td>\n",
              "      <td>A101</td>\n",
              "      <td>2</td>\n",
              "      <td>A121</td>\n",
              "      <td>22</td>\n",
              "      <td>A143</td>\n",
              "      <td>A152</td>\n",
              "      <td>1</td>\n",
              "      <td>A173</td>\n",
              "      <td>1</td>\n",
              "      <td>A191</td>\n",
              "      <td>A201</td>\n",
              "    </tr>\n",
              "    <tr>\n",
              "      <th>2</th>\n",
              "      <td>A14</td>\n",
              "      <td>12</td>\n",
              "      <td>A34</td>\n",
              "      <td>A46</td>\n",
              "      <td>2096</td>\n",
              "      <td>A61</td>\n",
              "      <td>A74</td>\n",
              "      <td>2</td>\n",
              "      <td>A93</td>\n",
              "      <td>A101</td>\n",
              "      <td>3</td>\n",
              "      <td>A121</td>\n",
              "      <td>49</td>\n",
              "      <td>A143</td>\n",
              "      <td>A152</td>\n",
              "      <td>1</td>\n",
              "      <td>A172</td>\n",
              "      <td>2</td>\n",
              "      <td>A191</td>\n",
              "      <td>A201</td>\n",
              "    </tr>\n",
              "    <tr>\n",
              "      <th>3</th>\n",
              "      <td>A11</td>\n",
              "      <td>42</td>\n",
              "      <td>A32</td>\n",
              "      <td>A42</td>\n",
              "      <td>7882</td>\n",
              "      <td>A61</td>\n",
              "      <td>A74</td>\n",
              "      <td>2</td>\n",
              "      <td>A93</td>\n",
              "      <td>A103</td>\n",
              "      <td>4</td>\n",
              "      <td>A122</td>\n",
              "      <td>45</td>\n",
              "      <td>A143</td>\n",
              "      <td>A153</td>\n",
              "      <td>1</td>\n",
              "      <td>A173</td>\n",
              "      <td>2</td>\n",
              "      <td>A191</td>\n",
              "      <td>A201</td>\n",
              "    </tr>\n",
              "    <tr>\n",
              "      <th>4</th>\n",
              "      <td>A11</td>\n",
              "      <td>24</td>\n",
              "      <td>A33</td>\n",
              "      <td>A40</td>\n",
              "      <td>4870</td>\n",
              "      <td>A61</td>\n",
              "      <td>A73</td>\n",
              "      <td>3</td>\n",
              "      <td>A93</td>\n",
              "      <td>A101</td>\n",
              "      <td>4</td>\n",
              "      <td>A124</td>\n",
              "      <td>53</td>\n",
              "      <td>A143</td>\n",
              "      <td>A153</td>\n",
              "      <td>2</td>\n",
              "      <td>A173</td>\n",
              "      <td>2</td>\n",
              "      <td>A191</td>\n",
              "      <td>A201</td>\n",
              "    </tr>\n",
              "  </tbody>\n",
              "</table>\n",
              "</div>\n",
              "    <div class=\"colab-df-buttons\">\n",
              "\n",
              "  <div class=\"colab-df-container\">\n",
              "    <button class=\"colab-df-convert\" onclick=\"convertToInteractive('df-74513f0e-c605-4efc-83d0-7286fed1000d')\"\n",
              "            title=\"Convert this dataframe to an interactive table.\"\n",
              "            style=\"display:none;\">\n",
              "\n",
              "  <svg xmlns=\"http://www.w3.org/2000/svg\" height=\"24px\" viewBox=\"0 -960 960 960\">\n",
              "    <path d=\"M120-120v-720h720v720H120Zm60-500h600v-160H180v160Zm220 220h160v-160H400v160Zm0 220h160v-160H400v160ZM180-400h160v-160H180v160Zm440 0h160v-160H620v160ZM180-180h160v-160H180v160Zm440 0h160v-160H620v160Z\"/>\n",
              "  </svg>\n",
              "    </button>\n",
              "\n",
              "  <style>\n",
              "    .colab-df-container {\n",
              "      display:flex;\n",
              "      gap: 12px;\n",
              "    }\n",
              "\n",
              "    .colab-df-convert {\n",
              "      background-color: #E8F0FE;\n",
              "      border: none;\n",
              "      border-radius: 50%;\n",
              "      cursor: pointer;\n",
              "      display: none;\n",
              "      fill: #1967D2;\n",
              "      height: 32px;\n",
              "      padding: 0 0 0 0;\n",
              "      width: 32px;\n",
              "    }\n",
              "\n",
              "    .colab-df-convert:hover {\n",
              "      background-color: #E2EBFA;\n",
              "      box-shadow: 0px 1px 2px rgba(60, 64, 67, 0.3), 0px 1px 3px 1px rgba(60, 64, 67, 0.15);\n",
              "      fill: #174EA6;\n",
              "    }\n",
              "\n",
              "    .colab-df-buttons div {\n",
              "      margin-bottom: 4px;\n",
              "    }\n",
              "\n",
              "    [theme=dark] .colab-df-convert {\n",
              "      background-color: #3B4455;\n",
              "      fill: #D2E3FC;\n",
              "    }\n",
              "\n",
              "    [theme=dark] .colab-df-convert:hover {\n",
              "      background-color: #434B5C;\n",
              "      box-shadow: 0px 1px 3px 1px rgba(0, 0, 0, 0.15);\n",
              "      filter: drop-shadow(0px 1px 2px rgba(0, 0, 0, 0.3));\n",
              "      fill: #FFFFFF;\n",
              "    }\n",
              "  </style>\n",
              "\n",
              "    <script>\n",
              "      const buttonEl =\n",
              "        document.querySelector('#df-74513f0e-c605-4efc-83d0-7286fed1000d button.colab-df-convert');\n",
              "      buttonEl.style.display =\n",
              "        google.colab.kernel.accessAllowed ? 'block' : 'none';\n",
              "\n",
              "      async function convertToInteractive(key) {\n",
              "        const element = document.querySelector('#df-74513f0e-c605-4efc-83d0-7286fed1000d');\n",
              "        const dataTable =\n",
              "          await google.colab.kernel.invokeFunction('convertToInteractive',\n",
              "                                                    [key], {});\n",
              "        if (!dataTable) return;\n",
              "\n",
              "        const docLinkHtml = 'Like what you see? Visit the ' +\n",
              "          '<a target=\"_blank\" href=https://colab.research.google.com/notebooks/data_table.ipynb>data table notebook</a>'\n",
              "          + ' to learn more about interactive tables.';\n",
              "        element.innerHTML = '';\n",
              "        dataTable['output_type'] = 'display_data';\n",
              "        await google.colab.output.renderOutput(dataTable, element);\n",
              "        const docLink = document.createElement('div');\n",
              "        docLink.innerHTML = docLinkHtml;\n",
              "        element.appendChild(docLink);\n",
              "      }\n",
              "    </script>\n",
              "  </div>\n",
              "\n",
              "\n",
              "<div id=\"df-f937a5d4-7880-4310-ad61-bb552289ec93\">\n",
              "  <button class=\"colab-df-quickchart\" onclick=\"quickchart('df-f937a5d4-7880-4310-ad61-bb552289ec93')\"\n",
              "            title=\"Suggest charts\"\n",
              "            style=\"display:none;\">\n",
              "\n",
              "<svg xmlns=\"http://www.w3.org/2000/svg\" height=\"24px\"viewBox=\"0 0 24 24\"\n",
              "     width=\"24px\">\n",
              "    <g>\n",
              "        <path d=\"M19 3H5c-1.1 0-2 .9-2 2v14c0 1.1.9 2 2 2h14c1.1 0 2-.9 2-2V5c0-1.1-.9-2-2-2zM9 17H7v-7h2v7zm4 0h-2V7h2v10zm4 0h-2v-4h2v4z\"/>\n",
              "    </g>\n",
              "</svg>\n",
              "  </button>\n",
              "\n",
              "<style>\n",
              "  .colab-df-quickchart {\n",
              "      --bg-color: #E8F0FE;\n",
              "      --fill-color: #1967D2;\n",
              "      --hover-bg-color: #E2EBFA;\n",
              "      --hover-fill-color: #174EA6;\n",
              "      --disabled-fill-color: #AAA;\n",
              "      --disabled-bg-color: #DDD;\n",
              "  }\n",
              "\n",
              "  [theme=dark] .colab-df-quickchart {\n",
              "      --bg-color: #3B4455;\n",
              "      --fill-color: #D2E3FC;\n",
              "      --hover-bg-color: #434B5C;\n",
              "      --hover-fill-color: #FFFFFF;\n",
              "      --disabled-bg-color: #3B4455;\n",
              "      --disabled-fill-color: #666;\n",
              "  }\n",
              "\n",
              "  .colab-df-quickchart {\n",
              "    background-color: var(--bg-color);\n",
              "    border: none;\n",
              "    border-radius: 50%;\n",
              "    cursor: pointer;\n",
              "    display: none;\n",
              "    fill: var(--fill-color);\n",
              "    height: 32px;\n",
              "    padding: 0;\n",
              "    width: 32px;\n",
              "  }\n",
              "\n",
              "  .colab-df-quickchart:hover {\n",
              "    background-color: var(--hover-bg-color);\n",
              "    box-shadow: 0 1px 2px rgba(60, 64, 67, 0.3), 0 1px 3px 1px rgba(60, 64, 67, 0.15);\n",
              "    fill: var(--button-hover-fill-color);\n",
              "  }\n",
              "\n",
              "  .colab-df-quickchart-complete:disabled,\n",
              "  .colab-df-quickchart-complete:disabled:hover {\n",
              "    background-color: var(--disabled-bg-color);\n",
              "    fill: var(--disabled-fill-color);\n",
              "    box-shadow: none;\n",
              "  }\n",
              "\n",
              "  .colab-df-spinner {\n",
              "    border: 2px solid var(--fill-color);\n",
              "    border-color: transparent;\n",
              "    border-bottom-color: var(--fill-color);\n",
              "    animation:\n",
              "      spin 1s steps(1) infinite;\n",
              "  }\n",
              "\n",
              "  @keyframes spin {\n",
              "    0% {\n",
              "      border-color: transparent;\n",
              "      border-bottom-color: var(--fill-color);\n",
              "      border-left-color: var(--fill-color);\n",
              "    }\n",
              "    20% {\n",
              "      border-color: transparent;\n",
              "      border-left-color: var(--fill-color);\n",
              "      border-top-color: var(--fill-color);\n",
              "    }\n",
              "    30% {\n",
              "      border-color: transparent;\n",
              "      border-left-color: var(--fill-color);\n",
              "      border-top-color: var(--fill-color);\n",
              "      border-right-color: var(--fill-color);\n",
              "    }\n",
              "    40% {\n",
              "      border-color: transparent;\n",
              "      border-right-color: var(--fill-color);\n",
              "      border-top-color: var(--fill-color);\n",
              "    }\n",
              "    60% {\n",
              "      border-color: transparent;\n",
              "      border-right-color: var(--fill-color);\n",
              "    }\n",
              "    80% {\n",
              "      border-color: transparent;\n",
              "      border-right-color: var(--fill-color);\n",
              "      border-bottom-color: var(--fill-color);\n",
              "    }\n",
              "    90% {\n",
              "      border-color: transparent;\n",
              "      border-bottom-color: var(--fill-color);\n",
              "    }\n",
              "  }\n",
              "</style>\n",
              "\n",
              "  <script>\n",
              "    async function quickchart(key) {\n",
              "      const quickchartButtonEl =\n",
              "        document.querySelector('#' + key + ' button');\n",
              "      quickchartButtonEl.disabled = true;  // To prevent multiple clicks.\n",
              "      quickchartButtonEl.classList.add('colab-df-spinner');\n",
              "      try {\n",
              "        const charts = await google.colab.kernel.invokeFunction(\n",
              "            'suggestCharts', [key], {});\n",
              "      } catch (error) {\n",
              "        console.error('Error during call to suggestCharts:', error);\n",
              "      }\n",
              "      quickchartButtonEl.classList.remove('colab-df-spinner');\n",
              "      quickchartButtonEl.classList.add('colab-df-quickchart-complete');\n",
              "    }\n",
              "    (() => {\n",
              "      let quickchartButtonEl =\n",
              "        document.querySelector('#df-f937a5d4-7880-4310-ad61-bb552289ec93 button');\n",
              "      quickchartButtonEl.style.display =\n",
              "        google.colab.kernel.accessAllowed ? 'block' : 'none';\n",
              "    })();\n",
              "  </script>\n",
              "</div>\n",
              "    </div>\n",
              "  </div>\n"
            ],
            "application/vnd.google.colaboratory.intrinsic+json": {
              "type": "dataframe",
              "variable_name": "X",
              "summary": "{\n  \"name\": \"X\",\n  \"rows\": 1000,\n  \"fields\": [\n    {\n      \"column\": \"Attribute1\",\n      \"properties\": {\n        \"dtype\": \"category\",\n        \"num_unique_values\": 4,\n        \"samples\": [\n          \"A12\",\n          \"A13\",\n          \"A11\"\n        ],\n        \"semantic_type\": \"\",\n        \"description\": \"\"\n      }\n    },\n    {\n      \"column\": \"Attribute2\",\n      \"properties\": {\n        \"dtype\": \"number\",\n        \"std\": 12,\n        \"min\": 4,\n        \"max\": 72,\n        \"num_unique_values\": 33,\n        \"samples\": [\n          72,\n          27,\n          22\n        ],\n        \"semantic_type\": \"\",\n        \"description\": \"\"\n      }\n    },\n    {\n      \"column\": \"Attribute3\",\n      \"properties\": {\n        \"dtype\": \"category\",\n        \"num_unique_values\": 5,\n        \"samples\": [\n          \"A32\",\n          \"A31\",\n          \"A33\"\n        ],\n        \"semantic_type\": \"\",\n        \"description\": \"\"\n      }\n    },\n    {\n      \"column\": \"Attribute4\",\n      \"properties\": {\n        \"dtype\": \"category\",\n        \"num_unique_values\": 10,\n        \"samples\": [\n          \"A410\",\n          \"A46\",\n          \"A49\"\n        ],\n        \"semantic_type\": \"\",\n        \"description\": \"\"\n      }\n    },\n    {\n      \"column\": \"Attribute5\",\n      \"properties\": {\n        \"dtype\": \"number\",\n        \"std\": 2822,\n        \"min\": 250,\n        \"max\": 18424,\n        \"num_unique_values\": 921,\n        \"samples\": [\n          1068,\n          2326,\n          683\n        ],\n        \"semantic_type\": \"\",\n        \"description\": \"\"\n      }\n    },\n    {\n      \"column\": \"Attribute6\",\n      \"properties\": {\n        \"dtype\": \"category\",\n        \"num_unique_values\": 5,\n        \"samples\": [\n          \"A61\",\n          \"A62\",\n          \"A63\"\n        ],\n        \"semantic_type\": \"\",\n        \"description\": \"\"\n      }\n    },\n    {\n      \"column\": \"Attribute7\",\n      \"properties\": {\n        \"dtype\": \"category\",\n        \"num_unique_values\": 5,\n        \"samples\": [\n          \"A73\",\n          \"A72\",\n          \"A74\"\n        ],\n        \"semantic_type\": \"\",\n        \"description\": \"\"\n      }\n    },\n    {\n      \"column\": \"Attribute8\",\n      \"properties\": {\n        \"dtype\": \"number\",\n        \"std\": 1,\n        \"min\": 1,\n        \"max\": 4,\n        \"num_unique_values\": 4,\n        \"samples\": [\n          2,\n          1,\n          4\n        ],\n        \"semantic_type\": \"\",\n        \"description\": \"\"\n      }\n    },\n    {\n      \"column\": \"Attribute9\",\n      \"properties\": {\n        \"dtype\": \"category\",\n        \"num_unique_values\": 4,\n        \"samples\": [\n          \"A92\",\n          \"A94\",\n          \"A93\"\n        ],\n        \"semantic_type\": \"\",\n        \"description\": \"\"\n      }\n    },\n    {\n      \"column\": \"Attribute10\",\n      \"properties\": {\n        \"dtype\": \"category\",\n        \"num_unique_values\": 3,\n        \"samples\": [\n          \"A101\",\n          \"A103\",\n          \"A102\"\n        ],\n        \"semantic_type\": \"\",\n        \"description\": \"\"\n      }\n    },\n    {\n      \"column\": \"Attribute11\",\n      \"properties\": {\n        \"dtype\": \"number\",\n        \"std\": 1,\n        \"min\": 1,\n        \"max\": 4,\n        \"num_unique_values\": 4,\n        \"samples\": [\n          2,\n          1,\n          4\n        ],\n        \"semantic_type\": \"\",\n        \"description\": \"\"\n      }\n    },\n    {\n      \"column\": \"Attribute12\",\n      \"properties\": {\n        \"dtype\": \"category\",\n        \"num_unique_values\": 4,\n        \"samples\": [\n          \"A122\",\n          \"A123\",\n          \"A121\"\n        ],\n        \"semantic_type\": \"\",\n        \"description\": \"\"\n      }\n    },\n    {\n      \"column\": \"Attribute13\",\n      \"properties\": {\n        \"dtype\": \"number\",\n        \"std\": 11,\n        \"min\": 19,\n        \"max\": 75,\n        \"num_unique_values\": 53,\n        \"samples\": [\n          34,\n          38,\n          55\n        ],\n        \"semantic_type\": \"\",\n        \"description\": \"\"\n      }\n    },\n    {\n      \"column\": \"Attribute14\",\n      \"properties\": {\n        \"dtype\": \"category\",\n        \"num_unique_values\": 3,\n        \"samples\": [\n          \"A143\",\n          \"A141\",\n          \"A142\"\n        ],\n        \"semantic_type\": \"\",\n        \"description\": \"\"\n      }\n    },\n    {\n      \"column\": \"Attribute15\",\n      \"properties\": {\n        \"dtype\": \"category\",\n        \"num_unique_values\": 3,\n        \"samples\": [\n          \"A152\",\n          \"A153\",\n          \"A151\"\n        ],\n        \"semantic_type\": \"\",\n        \"description\": \"\"\n      }\n    },\n    {\n      \"column\": \"Attribute16\",\n      \"properties\": {\n        \"dtype\": \"number\",\n        \"std\": 0,\n        \"min\": 1,\n        \"max\": 4,\n        \"num_unique_values\": 4,\n        \"samples\": [\n          1,\n          4,\n          2\n        ],\n        \"semantic_type\": \"\",\n        \"description\": \"\"\n      }\n    },\n    {\n      \"column\": \"Attribute17\",\n      \"properties\": {\n        \"dtype\": \"category\",\n        \"num_unique_values\": 4,\n        \"samples\": [\n          \"A172\",\n          \"A171\",\n          \"A173\"\n        ],\n        \"semantic_type\": \"\",\n        \"description\": \"\"\n      }\n    },\n    {\n      \"column\": \"Attribute18\",\n      \"properties\": {\n        \"dtype\": \"number\",\n        \"std\": 0,\n        \"min\": 1,\n        \"max\": 2,\n        \"num_unique_values\": 2,\n        \"samples\": [\n          2,\n          1\n        ],\n        \"semantic_type\": \"\",\n        \"description\": \"\"\n      }\n    },\n    {\n      \"column\": \"Attribute19\",\n      \"properties\": {\n        \"dtype\": \"category\",\n        \"num_unique_values\": 2,\n        \"samples\": [\n          \"A191\",\n          \"A192\"\n        ],\n        \"semantic_type\": \"\",\n        \"description\": \"\"\n      }\n    },\n    {\n      \"column\": \"Attribute20\",\n      \"properties\": {\n        \"dtype\": \"category\",\n        \"num_unique_values\": 2,\n        \"samples\": [\n          \"A202\",\n          \"A201\"\n        ],\n        \"semantic_type\": \"\",\n        \"description\": \"\"\n      }\n    }\n  ]\n}"
            }
          },
          "metadata": {},
          "execution_count": 4
        }
      ],
      "source": [
        "# You may take a look on the top few rows of the dataset\n",
        "X.head()"
      ]
    },
    {
      "cell_type": "markdown",
      "id": "d05345ab",
      "metadata": {
        "id": "d05345ab"
      },
      "source": [
        "## Step 2: preprocessing the data"
      ]
    },
    {
      "cell_type": "markdown",
      "id": "65931516",
      "metadata": {
        "id": "65931516"
      },
      "source": [
        "### First, let's preprocessing the sensitive feature that we are interested in.\n",
        " In this dataset, we use sex (women vs. men)as the sensitive feature of interest. Attribute 9 provide us sex information, so we use it to creat a binary group indicator. And group = 1 represents men and group = 0 represents women.\n",
        "\n",
        "#### Attribute 9: (qualitative) Personal status and sex\n",
        "A91 : male : divorced/separated <br>\n",
        "A92 : female : divorced/separated/married <br>\n",
        "A93 : male : single <br>\n",
        "A94 : male : married/widowed <br>\n",
        "A95 : female : single <br>"
      ]
    },
    {
      "cell_type": "code",
      "execution_count": 5,
      "id": "03474ebc",
      "metadata": {
        "colab": {
          "base_uri": "https://localhost:8080/"
        },
        "id": "03474ebc",
        "outputId": "36dee02e-50b5-4667-d861-f312fa6ac923"
      },
      "outputs": [
        {
          "output_type": "execute_result",
          "data": {
            "text/plain": [
              "Attribute9\n",
              "A93    548\n",
              "A92    310\n",
              "A94     92\n",
              "A91     50\n",
              "Name: count, dtype: int64"
            ]
          },
          "metadata": {},
          "execution_count": 5
        }
      ],
      "source": [
        "X['Attribute9'].value_counts() # check the distibution of Attribute 9"
      ]
    },
    {
      "cell_type": "code",
      "execution_count": 6,
      "id": "7bc5429b",
      "metadata": {
        "colab": {
          "base_uri": "https://localhost:8080/"
        },
        "id": "7bc5429b",
        "outputId": "8238c28b-d435-44a0-bd5b-ac12b4670f86"
      },
      "outputs": [
        {
          "output_type": "stream",
          "name": "stdout",
          "text": [
            "[1. 0. 1. 1. 1. 1. 1. 1. 1. 1. 0. 0. 0. 1. 0. 0. 1. 1. 0. 1. 1. 1. 1. 1.\n",
            " 1. 1. 1. 0. 1. 1. 1. 1. 1. 1. 0. 1. 1. 1. 1. 1. 1. 1. 1. 1. 0. 0. 1. 0.\n",
            " 1. 0. 1. 1. 1. 1. 1. 1. 1. 0. 0. 0. 1. 1. 1. 1. 0. 1. 0. 1. 1. 0. 0. 1.\n",
            " 1. 0. 1. 1. 1. 1. 1. 1. 0. 1. 0. 0. 1. 0. 0. 1. 1. 1. 1. 1. 0. 1. 1. 1.\n",
            " 0. 1. 1. 1. 1. 1. 0. 1. 1. 1. 1. 1. 0. 1. 1. 0. 1. 0. 1. 1. 0. 0. 0. 1.\n",
            " 0. 0. 1. 1. 0. 1. 1. 1. 1. 0. 0. 1. 1. 1. 0. 0. 1. 1. 1. 0. 1. 0. 1. 1.\n",
            " 0. 1. 0. 0. 1. 1. 1. 1. 1. 0. 1. 0. 1. 1. 1. 1. 1. 0. 1. 1. 1. 1. 0. 0.\n",
            " 0. 1. 1. 0. 0. 1. 1. 0. 1. 1. 1. 1. 1. 1. 1. 1. 1. 1. 0. 1. 1. 0. 1. 1.\n",
            " 1. 1. 1. 0. 0. 0. 1. 1. 1. 1. 1. 1. 1. 1. 1. 1. 1. 1. 1. 0. 1. 1. 1. 0.\n",
            " 1. 1. 1. 0. 1. 0. 1. 1. 1. 1. 1. 1. 1. 1. 1. 1. 1. 1. 1. 1. 1. 1. 0. 1.\n",
            " 0. 1. 1. 0. 0. 1. 1. 1. 1. 0. 0. 0. 0. 1. 1. 1. 1. 1. 0. 0. 1. 0. 1. 0.\n",
            " 1. 1. 1. 0. 1. 1. 1. 0. 1. 1. 1. 1. 0. 1. 0. 1. 1. 1. 1. 1. 1. 0. 1. 1.\n",
            " 0. 1. 1. 1. 0. 1. 1. 0. 0. 1. 1. 1. 0. 0. 1. 1. 1. 1. 0. 1. 0. 1. 1. 1.\n",
            " 0. 1. 1. 1. 1. 0. 1. 0. 1. 1. 1. 1. 0. 1. 1. 0. 1. 1. 1. 0. 0. 0. 1. 1.\n",
            " 0. 0. 1. 1. 0. 0. 1. 1. 1. 0. 1. 0. 1. 1. 0. 0. 1. 1. 1. 1. 1. 1. 1. 0.\n",
            " 1. 1. 0. 1. 1. 1. 1. 0. 1. 0. 1. 1. 0. 1. 0. 0. 1. 1. 1. 0. 1. 0. 0. 1.\n",
            " 1. 0. 0. 1. 1. 0. 1. 0. 1. 0. 1. 1. 0. 1. 1. 0. 1. 1. 1. 1. 1. 1. 1. 1.\n",
            " 1. 1. 0. 1. 1. 1. 0. 1. 1. 0. 0. 0. 0. 1. 1. 1. 0. 1. 1. 1. 1. 0. 1. 1.\n",
            " 1. 1. 1. 1. 1. 0. 1. 0. 1. 0. 1. 1. 0. 0. 0. 1. 0. 1. 1. 0. 1. 1. 1. 0.\n",
            " 1. 1. 0. 1. 1. 1. 0. 1. 1. 1. 0. 1. 0. 1. 1. 0. 1. 1. 1. 0. 1. 1. 1. 1.\n",
            " 0. 1. 0. 0. 1. 1. 1. 0. 1. 1. 1. 0. 0. 1. 1. 1. 1. 1. 1. 1. 0. 1. 1. 1.\n",
            " 0. 1. 1. 1. 1. 1. 1. 1. 1. 1. 1. 0. 1. 0. 1. 1. 1. 0. 1. 0. 0. 1. 0. 1.\n",
            " 1. 1. 1. 0. 1. 1. 1. 1. 0. 0. 1. 0. 1. 1. 1. 1. 1. 1. 0. 1. 0. 1. 0. 1.\n",
            " 1. 1. 0. 1. 0. 0. 1. 1. 1. 1. 0. 1. 1. 0. 1. 1. 1. 0. 0. 1. 0. 0. 1. 0.\n",
            " 0. 0. 1. 1. 1. 1. 0. 1. 0. 0. 1. 1. 1. 1. 0. 0. 0. 0. 1. 0. 0. 1. 1. 1.\n",
            " 0. 0. 0. 0. 0. 1. 1. 0. 1. 1. 0. 0. 0. 0. 0. 1. 1. 1. 0. 1. 1. 1. 1. 0.\n",
            " 1. 1. 1. 1. 1. 1. 0. 1. 1. 0. 0. 1. 0. 1. 0. 1. 0. 1. 1. 1. 1. 1. 1. 0.\n",
            " 1. 1. 1. 1. 1. 1. 1. 1. 1. 1. 0. 1. 1. 1. 1. 1. 0. 1. 1. 0. 1. 1. 1. 1.\n",
            " 1. 1. 1. 0. 1. 1. 1. 0. 0. 1. 1. 1. 1. 1. 1. 1. 1. 1. 1. 0. 1. 1. 1. 1.\n",
            " 1. 0. 1. 1. 0. 1. 0. 1. 0. 0. 1. 0. 0. 1. 1. 0. 1. 1. 1. 1. 1. 1. 1. 1.\n",
            " 1. 0. 0. 0. 0. 0. 1. 0. 0. 1. 1. 1. 0. 0. 0. 0. 0. 1. 1. 0. 1. 1. 1. 1.\n",
            " 1. 1. 0. 0. 1. 1. 0. 0. 0. 0. 1. 0. 1. 1. 1. 1. 0. 0. 1. 1. 1. 1. 1. 0.\n",
            " 1. 1. 0. 0. 1. 1. 1. 0. 1. 0. 1. 0. 1. 1. 1. 0. 1. 1. 1. 1. 1. 1. 0. 1.\n",
            " 1. 1. 1. 0. 1. 0. 1. 1. 1. 0. 0. 1. 0. 1. 1. 1. 1. 0. 1. 1. 1. 1. 1. 0.\n",
            " 1. 0. 1. 1. 1. 1. 1. 1. 1. 1. 0. 1. 1. 1. 1. 0. 1. 0. 0. 1. 0. 0. 1. 1.\n",
            " 1. 1. 0. 1. 1. 1. 1. 1. 1. 1. 1. 1. 1. 1. 1. 1. 0. 1. 0. 1. 1. 1. 0. 1.\n",
            " 1. 0. 0. 1. 1. 0. 0. 1. 1. 0. 1. 0. 1. 1. 1. 1. 1. 1. 1. 0. 1. 0. 1. 1.\n",
            " 1. 1. 1. 1. 1. 1. 1. 1. 0. 0. 0. 1. 1. 1. 1. 1. 1. 1. 1. 1. 0. 0. 0. 0.\n",
            " 0. 1. 1. 0. 1. 1. 1. 1. 0. 1. 0. 1. 1. 1. 0. 1. 1. 1. 1. 0. 1. 1. 0. 1.\n",
            " 0. 1. 1. 1. 1. 1. 1. 1. 0. 0. 1. 1. 1. 1. 1. 1. 0. 0. 0. 0. 1. 1. 1. 1.\n",
            " 1. 1. 1. 1. 1. 0. 1. 0. 1. 1. 1. 1. 0. 1. 0. 0. 0. 1. 1. 1. 1. 1. 0. 1.\n",
            " 1. 0. 1. 0. 1. 1. 1. 1. 1. 1. 1. 0. 1. 1. 1. 1.]\n"
          ]
        }
      ],
      "source": [
        "#Start processing the sensitive feature\n",
        "import numpy as np\n",
        "groups = np.ones((len(y),)) #Creat an ones array with length equal to the full samlple size. (g1: men)\n",
        "groups[X['Attribute9'].isin(['A92', 'A95'])] =0 #replace the group value for women instances as 0. (g0: women)\n",
        "X = X.drop(['Attribute9'], axis=1)#drop the sensitive feature we used to create the group membership, we also do not want the classifier to use it.\n",
        "print(groups) #check the binary group indicator we just created\n"
      ]
    },
    {
      "cell_type": "markdown",
      "id": "99250bab",
      "metadata": {
        "id": "99250bab"
      },
      "source": [
        "### Second, let's process the y varibale to make it binary"
      ]
    },
    {
      "cell_type": "markdown",
      "id": "e9f54352",
      "metadata": {
        "id": "e9f54352"
      },
      "source": [
        " #### Y variable (class): 1 = Good, 2 = Bad"
      ]
    },
    {
      "cell_type": "code",
      "execution_count": 7,
      "id": "182b3b8c",
      "metadata": {
        "colab": {
          "base_uri": "https://localhost:8080/"
        },
        "id": "182b3b8c",
        "outputId": "d4d46b23-3ad2-444a-b97b-5a9a8037809a"
      },
      "outputs": [
        {
          "output_type": "execute_result",
          "data": {
            "text/plain": [
              "class\n",
              "1        700\n",
              "2        300\n",
              "Name: count, dtype: int64"
            ]
          },
          "metadata": {},
          "execution_count": 7
        }
      ],
      "source": [
        "y.value_counts() # check the distribution of y"
      ]
    },
    {
      "cell_type": "code",
      "execution_count": 8,
      "id": "b243e7f6",
      "metadata": {
        "id": "b243e7f6"
      },
      "outputs": [],
      "source": [
        "# We want to transfer the target variable into binary as well, so 1 = Good, 0 = Bad. To do so, we use the mask function.\n",
        "#Function reference: https://pandas.pydata.org/docs/reference/api/pandas.DataFrame.where.html\n",
        "y = y.mask(y == 2, 0)\n",
        "y = np.ravel(y) #flatten the target variable for latter use"
      ]
    },
    {
      "cell_type": "markdown",
      "id": "bcd621fd",
      "metadata": {
        "id": "bcd621fd"
      },
      "source": [
        "### Third, transfer the categorical features to dummy variables"
      ]
    },
    {
      "cell_type": "code",
      "execution_count": 9,
      "id": "7fc81bbd",
      "metadata": {
        "id": "7fc81bbd"
      },
      "outputs": [],
      "source": [
        "X = pd.get_dummies(X) #function reference: https://pandas.pydata.org/docs/reference/api/pandas.get_dummies.html"
      ]
    },
    {
      "cell_type": "code",
      "execution_count": 10,
      "id": "cddf4f58",
      "metadata": {
        "id": "cddf4f58"
      },
      "outputs": [],
      "source": [
        "#concatenate X , groups, and y to make them a whole dataset, this makes training and testing spliting easiler\n",
        "df = pd.concat([X,pd.DataFrame({'groups': groups}),pd.DataFrame({'target': y})],axis=1)"
      ]
    },
    {
      "cell_type": "code",
      "execution_count": 11,
      "id": "d0967bc7",
      "metadata": {
        "colab": {
          "base_uri": "https://localhost:8080/"
        },
        "id": "d0967bc7",
        "outputId": "54fa8704-e52f-4d2b-ef6a-eadec664aea8"
      },
      "outputs": [
        {
          "output_type": "execute_result",
          "data": {
            "text/plain": [
              "Index(['Attribute2', 'Attribute5', 'Attribute8', 'Attribute11', 'Attribute13',\n",
              "       'Attribute16', 'Attribute18', 'Attribute1_A11', 'Attribute1_A12',\n",
              "       'Attribute1_A13', 'Attribute1_A14', 'Attribute3_A30', 'Attribute3_A31',\n",
              "       'Attribute3_A32', 'Attribute3_A33', 'Attribute3_A34', 'Attribute4_A40',\n",
              "       'Attribute4_A41', 'Attribute4_A410', 'Attribute4_A42', 'Attribute4_A43',\n",
              "       'Attribute4_A44', 'Attribute4_A45', 'Attribute4_A46', 'Attribute4_A48',\n",
              "       'Attribute4_A49', 'Attribute6_A61', 'Attribute6_A62', 'Attribute6_A63',\n",
              "       'Attribute6_A64', 'Attribute6_A65', 'Attribute7_A71', 'Attribute7_A72',\n",
              "       'Attribute7_A73', 'Attribute7_A74', 'Attribute7_A75',\n",
              "       'Attribute10_A101', 'Attribute10_A102', 'Attribute10_A103',\n",
              "       'Attribute12_A121', 'Attribute12_A122', 'Attribute12_A123',\n",
              "       'Attribute12_A124', 'Attribute14_A141', 'Attribute14_A142',\n",
              "       'Attribute14_A143', 'Attribute15_A151', 'Attribute15_A152',\n",
              "       'Attribute15_A153', 'Attribute17_A171', 'Attribute17_A172',\n",
              "       'Attribute17_A173', 'Attribute17_A174', 'Attribute19_A191',\n",
              "       'Attribute19_A192', 'Attribute20_A201', 'Attribute20_A202', 'groups',\n",
              "       'target'],\n",
              "      dtype='object')"
            ]
          },
          "metadata": {},
          "execution_count": 11
        }
      ],
      "source": [
        "df.columns # make sure the we have 'groups' and 'target' as the very last two columns of the dataframe."
      ]
    },
    {
      "cell_type": "markdown",
      "id": "8d45e74a",
      "metadata": {
        "id": "8d45e74a"
      },
      "source": [
        "### Lastly, split the training set and testing set based on the group ratio, and positive ratio for each group"
      ]
    },
    {
      "cell_type": "code",
      "execution_count": 12,
      "id": "f9201684",
      "metadata": {
        "id": "f9201684"
      },
      "outputs": [],
      "source": [
        "def train_test_prepare(df, positive_rate_g0, positive_rate_g1, g0_ratio, train_ratio = 0.7, rnd_seed = 1):\n",
        "    '''\n",
        "    This function is spliting the dataset into training and testing (training/testing = 7/3).\n",
        "    At the same time, the spliting is stratified with regard to 1)the positive rates of each group and 2)the group ratio\n",
        "    '''\n",
        "    ######\n",
        "    response = 'target'\n",
        "    sensitive = 'groups'\n",
        "    atr = df.columns[0:-2]\n",
        "\n",
        "    train00 = df[(df[sensitive]==0)&(df[response]==0)].sample(n = int(len(df)*(train_ratio*g0_ratio*(1-positive_rate_g0))), random_state = rnd_seed)\n",
        "    train01 = df[(df[sensitive]==0)&(df[response]==1)].sample(n = int(len(df)*(train_ratio*g0_ratio*positive_rate_g0)), random_state = rnd_seed)\n",
        "    train10 = df[(df[sensitive]==1)&(df[response]==0)].sample(n = int(len(df)*(train_ratio*(1-g0_ratio)*(1-positive_rate_g1))), random_state = rnd_seed)\n",
        "    train11 = df[(df[sensitive]==1)&(df[response]==1)].sample(n = int(len(df)*(train_ratio*(1-g0_ratio)*positive_rate_g1)), random_state = rnd_seed)\n",
        "\n",
        "    train = pd.concat([train00, train01, train10, train11])\n",
        "    test  = df.drop(train.index)\n",
        "    #train, test = np.split(df.sample(frac=1, random_state=rnd_seed), [int(.7*len(df))])\n",
        "\n",
        "    print('train shape  =', train.shape)\n",
        "\n",
        "    print('train shape (g0) = ', train[train[sensitive]==0].shape)\n",
        "    print('train shape (g1) = ', train[train[sensitive]==1].shape)\n",
        "    print('test shape =', test.shape)\n",
        "    print('test shape (g0) = ', test[test[sensitive]==0].shape)\n",
        "    print('test shape (g1) = ', test[test[sensitive]==1].shape)\n",
        "\n",
        "    X = train[atr]\n",
        "    X_s = train[sensitive]\n",
        "    y = train[response]\n",
        "    Xt = test[atr]\n",
        "    Xt_s = test[sensitive]\n",
        "    yt = test[response]\n",
        "    return X, X_s, y, Xt, Xt_s, yt"
      ]
    },
    {
      "cell_type": "code",
      "execution_count": 27,
      "id": "ccd264ab",
      "metadata": {
        "colab": {
          "base_uri": "https://localhost:8080/"
        },
        "id": "ccd264ab",
        "outputId": "df79b961-c475-47ac-a8e8-b466f5a1b4e9"
      },
      "outputs": [
        {
          "output_type": "stream",
          "name": "stdout",
          "text": [
            "The positive rate for group 0 (Women) is: 0.65.\n",
            "The positive rate for group 1 (Men) is: 0.72.\n",
            "There are 0.31 of the instances are Women.\n"
          ]
        }
      ],
      "source": [
        "# calculate the positive_rate_g0, positive_rate_g1, and g0_ratio.\n",
        "positive_rate_g0 = sum(y[groups == 0])/len(y[groups == 0])\n",
        "positive_rate_g1 = sum(y[groups == 1])/len(y[groups == 1])\n",
        "print('The positive rate for group 0 (Women) is: {}.'.format(format(positive_rate_g0, '.2f')))\n",
        "print('The positive rate for group 1 (Men) is: {}.'.format(format(positive_rate_g1, '.2f')))\n",
        "\n",
        "g0_ratio = len(groups[groups == 0]) / len(groups)\n",
        "print('There are {} of the instances are Women.'.format(format(g0_ratio, '.2f')))"
      ]
    },
    {
      "cell_type": "code",
      "execution_count": 28,
      "id": "da2529e0",
      "metadata": {
        "colab": {
          "base_uri": "https://localhost:8080/"
        },
        "id": "da2529e0",
        "outputId": "f8a62a68-8be3-463e-d06b-e9926495c1a1"
      },
      "outputs": [
        {
          "output_type": "stream",
          "name": "stdout",
          "text": [
            "train shape  = (698, 59)\n",
            "train shape (g0) =  (216, 59)\n",
            "train shape (g1) =  (482, 59)\n",
            "test shape = (302, 59)\n",
            "test shape (g0) =  (94, 59)\n",
            "test shape (g1) =  (208, 59)\n"
          ]
        }
      ],
      "source": [
        "#Call the train_test_prepare function to split the dataset\n",
        "X_train, X_s_train, y_train, X_test, X_s_test, y_test = train_test_prepare(df, positive_rate_g0, positive_rate_g1, g0_ratio)\n"
      ]
    },
    {
      "cell_type": "markdown",
      "id": "183f3ed5",
      "metadata": {
        "id": "183f3ed5"
      },
      "source": [
        "## Step 3: Train a classifier and make predictions on the testing set"
      ]
    },
    {
      "cell_type": "code",
      "execution_count": 29,
      "id": "3722d32b",
      "metadata": {
        "id": "3722d32b"
      },
      "outputs": [],
      "source": [
        "# Train a random forest classifier\n",
        "clf = RandomForestClassifier(n_estimators = 100, random_state=666)\n",
        "clf.fit(X_train, y_train)\n",
        "\n",
        "#predictions on the testing set\n",
        "y_hat = clf.predict(X_test)"
      ]
    },
    {
      "cell_type": "markdown",
      "id": "f92493e0",
      "metadata": {
        "id": "f92493e0"
      },
      "source": [
        "## Step 4: Fairness Auditing"
      ]
    },
    {
      "cell_type": "code",
      "execution_count": 30,
      "id": "6766d81f",
      "metadata": {
        "colab": {
          "base_uri": "https://localhost:8080/"
        },
        "id": "6766d81f",
        "outputId": "f3cda42d-d74c-4228-d98c-42e26a73419b"
      },
      "outputs": [
        {
          "output_type": "stream",
          "name": "stdout",
          "text": [
            "The true positive rate for the whole dataset is:  0.91\n",
            "The false positive rate for the whole dataset is:  0.62\n",
            "The ture negative rate for the whole dataset is:  0.38\n",
            "The false negative rate for the whole dataset is:  0.09\n"
          ]
        }
      ],
      "source": [
        "# Calculate the confusion matrix\n",
        "TPR = sum((y_hat == 1) & (y_test == 1))/sum(y_test == 1)\n",
        "print('The true positive rate for the whole dataset is: ', format(TPR, '.2f'))\n",
        "FPR = sum((y_hat == 1) & (y_test == 0)) / sum(y_test == 0)\n",
        "print('The false positive rate for the whole dataset is: ', format(FPR, '.2f'))\n",
        "TNR = sum((y_hat == 0) & (y_test == 0)) / sum(y_test == 0)\n",
        "print('The ture negative rate for the whole dataset is: ', format(TNR, '.2f'))\n",
        "FNR = sum((y_hat == 0) & (y_test == 1)) / sum(y_test == 1)\n",
        "print('The false negative rate for the whole dataset is: ', format(FNR, '.2f'))"
      ]
    },
    {
      "cell_type": "code",
      "execution_count": 31,
      "id": "b4b9f1c6",
      "metadata": {
        "colab": {
          "base_uri": "https://localhost:8080/"
        },
        "id": "b4b9f1c6",
        "outputId": "f9f1b353-f213-4d24-d1f9-6cfa28e3e14c"
      },
      "outputs": [
        {
          "output_type": "stream",
          "name": "stdout",
          "text": [
            "The true positive rate for group 0 is:  0.87\n",
            "The true positive rate for group 1 is:  0.92\n",
            "The false positive rate for group 0 is:  0.61\n",
            "The false positive rate for group 1 is:  0.62\n",
            "The ture negative rate for group 0 is: 0.39\n",
            "The ture negative rate for group 1 is: 0.38\n",
            "The false negative rate for group 0 is: 0.13\n",
            "The false negative rate for group 1 is: 0.08\n"
          ]
        }
      ],
      "source": [
        "# Calculate the group specific confusion matrix\n",
        "TPR_g0 = sum((y_hat == 1) & (y_test == 1) & (X_s_test == 0))/sum((y_test == 1) & (X_s_test == 0))\n",
        "TPR_g1 = sum((y_hat == 1) & (y_test == 1) & (X_s_test == 1))/sum((y_test == 1) & (X_s_test == 1))\n",
        "print('The true positive rate for group 0 is: ', format(TPR_g0, '.2f'))\n",
        "print('The true positive rate for group 1 is: ', format(TPR_g1, '.2f'))\n",
        "FPR_g0 = sum((y_hat == 1) & (y_test == 0) & (X_s_test == 0))/sum((y_test == 0) & (X_s_test == 0))\n",
        "FPR_g1 = sum((y_hat == 1) & (y_test == 0) & (X_s_test == 1))/sum((y_test == 0) & (X_s_test == 1))\n",
        "print('The false positive rate for group 0 is: ', format(FPR_g0, '.2f'))\n",
        "print('The false positive rate for group 1 is: ', format(FPR_g1, '.2f'))\n",
        "TNR_g0 = sum((y_hat == 0) & (y_test == 0) & (X_s_test == 0))/sum((y_test == 0) & (X_s_test == 0))\n",
        "TNR_g1 = sum((y_hat == 0) & (y_test == 0) & (X_s_test == 1))/sum((y_test == 0) & (X_s_test == 1))\n",
        "print('The ture negative rate for group 0 is:', format(TNR_g0, '.2f'))\n",
        "print('The ture negative rate for group 1 is:', format(TNR_g1, '.2f'))\n",
        "FNR_g0 = sum((y_hat == 0) & (y_test == 1) & (X_s_test == 0))/sum((y_test == 1) & (X_s_test == 0))\n",
        "FNR_g1 = sum((y_hat == 0) & (y_test == 1) & (X_s_test == 1))/sum((y_test == 1) & (X_s_test == 1))\n",
        "print('The false negative rate for group 0 is:', format(FNR_g0, '.2f'))\n",
        "print('The false negative rate for group 1 is:', format(FNR_g1, '.2f'))"
      ]
    },
    {
      "cell_type": "markdown",
      "id": "4f527963",
      "metadata": {
        "id": "4f527963"
      },
      "source": [
        "### Let's visulize the detailed items in the confusion matrix we just computed"
      ]
    },
    {
      "cell_type": "code",
      "execution_count": 32,
      "id": "8765d9b6",
      "metadata": {
        "colab": {
          "base_uri": "https://localhost:8080/",
          "height": 460
        },
        "id": "8765d9b6",
        "outputId": "5ca98fb1-c819-4d26-ee72-e94f21bc5817"
      },
      "outputs": [
        {
          "output_type": "display_data",
          "data": {
            "text/plain": [
              "<Figure size 850x480 with 1 Axes>"
            ],
            "image/png": "[encoded data removed]"
          },
          "metadata": {}
        }
      ],
      "source": [
        "g0 = 'Women'\n",
        "g1 = 'Men'\n",
        "\n",
        "# Set the x position of bars\n",
        "r1 = np.arange(4)\n",
        "barWidth = 0.25 # width of the bars\n",
        "r2 = [x + barWidth for x in r1]\n",
        "\n",
        "# Create bars\n",
        "plt.rcParams[\"figure.figsize\"] = [8.5, 4.8]\n",
        "plt.bar(r1, [TPR_g0, FPR_g0, TNR_g0, FNR_g0], width = barWidth, color = '#ff6b6b', edgecolor = 'black', yerr=0, capsize=7, hatch='/', label=g0)\n",
        "plt.bar(r2, [TPR_g1, FPR_g1, TNR_g1, FNR_g1], width = barWidth, color = '#66d9e8', edgecolor = 'black', yerr=0, capsize=7, hatch='.', label=g1)\n",
        "\n",
        "# general layout\n",
        "plt.ylim(0, 1)\n",
        "plt.xticks([r + barWidth for r in range(4)], ['TPRs', 'FPRs', 'TNRs', 'FNRs'])\n",
        "plt.ylabel('Rates', fontsize = 16)\n",
        "\n",
        "# Title and lengend\n",
        "plt.title('Detailed Distibution of Confusion Matrix Items', fontsize = 16, style='italic', loc='left')\n",
        "plt.yticks(fontsize=15, rotation=360)\n",
        "plt.xticks(fontsize=15, rotation=360)\n",
        "plt.legend(loc='best', fontsize = 16, fancybox=True, shadow=True, ncol= 1)\n",
        "\n",
        "# show the plot\n",
        "#plt.savefig('Bar_plot_CMs.pdf',bbox_inches = 'tight') #uncomment this if you want to save the plot as pdf, so it can be used as a high resolution plot\n",
        "plt.show()\n"
      ]
    },
    {
      "cell_type": "markdown",
      "id": "9a00f02a",
      "metadata": {
        "id": "9a00f02a"
      },
      "source": [
        "### Measuring Demographic Parity"
      ]
    },
    {
      "cell_type": "code",
      "execution_count": 33,
      "id": "232a4340",
      "metadata": {
        "colab": {
          "base_uri": "https://localhost:8080/"
        },
        "id": "232a4340",
        "outputId": "31cdbab2-2d50-4031-af6a-ab85e796f6dd"
      },
      "outputs": [
        {
          "output_type": "stream",
          "name": "stdout",
          "text": [
            "The violation of demographic parity is 0.06\n"
          ]
        }
      ],
      "source": [
        "positive_rate_g0 = sum((y_hat == 1) & (X_s_test == 0)) / sum(X_s_test == 0)\n",
        "positive_rate_g1 = sum((y_hat == 1) & (X_s_test == 1)) / sum(X_s_test == 1)\n",
        "DP_violat = abs(positive_rate_g0 - positive_rate_g1)\n",
        "print('The violation of demographic parity is', format(DP_violat, '.2f'))"
      ]
    },
    {
      "cell_type": "markdown",
      "id": "67125cc4",
      "metadata": {
        "id": "67125cc4"
      },
      "source": [
        "### Measuring Equlized Odds"
      ]
    },
    {
      "cell_type": "code",
      "execution_count": 34,
      "id": "0117c5bc",
      "metadata": {
        "colab": {
          "base_uri": "https://localhost:8080/"
        },
        "id": "0117c5bc",
        "outputId": "f9dd9906-74b2-42a4-e475-e61bce363539"
      },
      "outputs": [
        {
          "output_type": "stream",
          "name": "stdout",
          "text": [
            "The violation of equalized odds is 0.05\n"
          ]
        }
      ],
      "source": [
        "Equal_Odds_violat = max(abs(TPR_g0 - TPR_g1), abs(FPR_g0 - FPR_g1))\n",
        "print('The violation of equalized odds is', format(Equal_Odds_violat, '.2f'))"
      ]
    },
    {
      "cell_type": "markdown",
      "id": "104c0db5",
      "metadata": {
        "id": "104c0db5"
      },
      "source": [
        "### Measuring Predctive Parity"
      ]
    },
    {
      "cell_type": "code",
      "execution_count": 35,
      "id": "f619c782",
      "metadata": {
        "colab": {
          "base_uri": "https://localhost:8080/"
        },
        "id": "f619c782",
        "outputId": "9473b933-b370-4e84-c8f8-e4bc78377cd4"
      },
      "outputs": [
        {
          "output_type": "stream",
          "name": "stdout",
          "text": [
            "The violation of predictive parity is 0.07\n"
          ]
        }
      ],
      "source": [
        "precision_g0 = sum((y_hat == 1) & (y_test == 1) & (X_s_test == 0)) / sum((y_hat == 1) & (X_s_test == 0))\n",
        "precision_g1 = sum((y_hat == 1) & (y_test == 1) & (X_s_test == 1)) / sum((y_hat == 1) & (X_s_test == 1))\n",
        "pred_parity_violat = abs(precision_g0 - precision_g1)\n",
        "print('The violation of predictive parity is', format(pred_parity_violat, '.2f'))"
      ]
    },
    {
      "cell_type": "markdown",
      "id": "615fded1",
      "metadata": {
        "id": "615fded1"
      },
      "source": [
        "###  Visulize the three measures we just calculated.\n",
        "Specifically, you should create bars representing positive rates, recalls, and precisions for each group to facilitate comparison. Employ varied colors to distinguish between the groups."
      ]
    },
    {
      "cell_type": "code",
      "execution_count": 36,
      "id": "83298616",
      "metadata": {
        "colab": {
          "base_uri": "https://localhost:8080/",
          "height": 460
        },
        "id": "83298616",
        "outputId": "4a33b1b9-a766-47b5-84f7-832210261e89"
      },
      "outputs": [
        {
          "output_type": "display_data",
          "data": {
            "text/plain": [
              "<Figure size 650x480 with 1 Axes>"
            ],
            "image/png": "[encoded data removed]"
          },
          "metadata": {}
        }
      ],
      "source": [
        "# Set the x position of bars\n",
        "r1 = np.arange(3)\n",
        "barWidth = 0.25 # width of the bars\n",
        "r2 = [x + barWidth for x in r1]\n",
        "\n",
        "# Create bars\n",
        "plt.rcParams[\"figure.figsize\"] = [6.5, 4.8]\n",
        "plt.bar(r1, [positive_rate_g0, TPR_g0, precision_g0], width = barWidth, color = '#ff6b6b', edgecolor = 'black', yerr=0, capsize=7, hatch='/', label=g0)\n",
        "plt.bar(r2, [positive_rate_g1, TPR_g1, precision_g1], width = barWidth, color = '#66d9e8', edgecolor = 'black', yerr=0, capsize=7, hatch='.', label=g1)\n",
        "\n",
        "# general layout\n",
        "plt.ylim(0, 1)\n",
        "plt.xticks([r + barWidth for r in range(3)], ['Positive Rate', 'Recall', 'Precision'])\n",
        "plt.ylabel('counts', fontsize = 16)\n",
        "\n",
        "# Title and lengend\n",
        "plt.title('Fairness Auditing', fontsize = 16, style='italic', loc='center')\n",
        "plt.yticks(fontsize=15, rotation=360)\n",
        "plt.xticks(fontsize=15, rotation=360)\n",
        "plt.legend(loc='best', bbox_to_anchor=(1, 0.5), fontsize = 16, fancybox=True, shadow=True, ncol= 1)\n",
        "\n",
        "# show the plot\n",
        "#plt.savefig('Bar_plot_Measures.pdf',bbox_inches = 'tight') #uncomment this if you want to save the plot as pdf, so it can be used as a high resolution plot\n",
        "plt.show()\n"
      ]
    },
    {
      "cell_type": "markdown",
      "id": "41190679",
      "metadata": {
        "id": "41190679"
      },
      "source": [
        "# Congratulations, you made it!"
      ]
    }
  ],
  "metadata": {
    "kernelspec": {
      "display_name": "Python 3 (ipykernel)",
      "language": "python",
      "name": "python3"
    },
    "language_info": {
      "codemirror_mode": {
        "name": "ipython",
        "version": 3
      },
      "file_extension": ".py",
      "mimetype": "text/x-python",
      "name": "python",
      "nbconvert_exporter": "python",
      "pygments_lexer": "ipython3",
      "version": "3.9.7"
    },
    "colab": {
      "provenance": []
    }
  },
  "nbformat": 4,
  "nbformat_minor": 5
}